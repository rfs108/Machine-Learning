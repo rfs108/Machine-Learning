{
 "cells": [
  {
   "cell_type": "markdown",
   "metadata": {},
   "source": [
    "### Task 1: Least Squares Regression"
   ]
  },
  {
   "cell_type": "code",
   "execution_count": 1,
   "metadata": {},
   "outputs": [],
   "source": [
    "from sklearn.datasets import load_boston\n",
    "import numpy as np\n",
    "from numpy import linalg as LA\n",
    "\n",
    "\n",
    "data, labels = load_boston(return_X_y = True)\n",
    "labels = labels.reshape((len(labels), 1))\n",
    "\n",
    "#print(data.shape) # 506 by 13\n",
    "#print(labels.shape) # 506 by 1\n",
    "\n",
    "concat_ones = np.ones((506,1))\n",
    "\n",
    "data = np.column_stack((data, concat_ones))\n",
    "#print(data.shape) # 506 by 14"
   ]
  },
  {
   "cell_type": "code",
   "execution_count": 20,
   "metadata": {},
   "outputs": [],
   "source": [
    "# Partitioning data matrix X into 5 folds\n",
    "X_folds = np.array([data[:101], data[101:202], data[202:303], data[303:404], data[404:]])\n",
    "\n",
    "# Partitioning labels into 5 folds\n",
    "label_fold0 = labels[0:101, :]\n",
    "label_fold1 = labels[101:202, :]\n",
    "label_fold2 = labels[202:303,:]\n",
    "label_fold3 = labels[303:404, :]\n",
    "label_fold4 = labels[404:,:]\n",
    "labels_folds = np.array([label_fold0, label_fold1, label_fold2, label_fold3, label_fold4])\n",
    "\n",
    "\n",
    "# Least Squares find w tilde\n",
    "def W_Tilde(X, Y):\n",
    "    w = (LA.inv(X.T @ X)) @ (X.T @ Y)\n",
    "    return w\n",
    "\n",
    "# Now Predict Output\n",
    "def Predict(X, w):\n",
    "    output = X @ w\n",
    "    #output = (w.T).dot(X)\n",
    "    return output\n",
    "\n",
    "# Evaluate predictions\n",
    "def Evaluate(Ytest, Ylabels):\n",
    "    summation = 0;\n",
    "    N = len(Ytest)\n",
    "    for i in range(0, N):\n",
    "        summation += ((Ytest[i] - Ylabels[i]) ** 2)\n",
    "    avg_accuracy = summation / N\n",
    "    return avg_accuracy\n",
    "\n",
    "# List of prediction errors\n",
    "ls_errors = []"
   ]
  },
  {
   "cell_type": "markdown",
   "metadata": {},
   "source": [
    "##### Using folds 0, 1, 2, 3 as training | fold 4 as test "
   ]
  },
  {
   "cell_type": "code",
   "execution_count": 3,
   "metadata": {},
   "outputs": [
    {
     "name": "stdout",
     "output_type": "stream",
     "text": [
      "First cross validation iteration, prediction error =  [33.07562649]\n"
     ]
    }
   ],
   "source": [
    "# Using folds 0-3 as training data, labels\n",
    "train_X_0123 = np.c_[X_folds[0].T, X_folds[1].T, X_folds[2].T, X_folds[3].T].T\n",
    "train_labels_0123 = np.c_[labels_folds[0].T, labels_folds[1].T, labels_folds[2].T, labels_folds[3].T].T\n",
    "\n",
    "# Using fold 4 as test data, labels\n",
    "test_X_4 = X_folds[4]\n",
    "test_labels_4 = labels_folds[4]\n",
    "\n",
    "# Producing w tilde from training data, labels\n",
    "wtilde_cv0 = W_Tilde(train_X_0123, train_labels_0123)\n",
    "\n",
    "# Producing output using learned w tilde\n",
    "y_cv0 = Predict(test_X_4, wtilde_cv0)\n",
    "\n",
    "# Accuracy for Iteration # 1 of cross validation\n",
    "eval_0 = Evaluate(y_cv0, test_labels_4)\n",
    "ls_errors.append(eval_0)\n",
    "print(\"First cross validation iteration, prediction error = \", eval_0)"
   ]
  },
  {
   "cell_type": "markdown",
   "metadata": {},
   "source": [
    "##### Using folds 0, 1, 2, 4 as training | fold 3 as test "
   ]
  },
  {
   "cell_type": "code",
   "execution_count": 4,
   "metadata": {},
   "outputs": [
    {
     "name": "stdout",
     "output_type": "stream",
     "text": [
      "Second cross validation iteration, prediction error =  [80.21271392]\n"
     ]
    }
   ],
   "source": [
    "# Using folds 0-2, 4 as training data, labels\n",
    "train_X_0124 = np.c_[X_folds[0].T, X_folds[1].T, X_folds[2].T, X_folds[4].T].T\n",
    "train_labels_0124 = np.c_[labels_folds[0].T, labels_folds[1].T, labels_folds[2].T, labels_folds[4].T].T\n",
    "\n",
    "# Using fold 3 as test data, labels\n",
    "test_X_3 = X_folds[3]\n",
    "test_labels_3 = labels_folds[3]\n",
    "\n",
    "# Producing w tilde from training data, labels\n",
    "wtilde_cv1 = W_Tilde(train_X_0124, train_labels_0124)\n",
    "\n",
    "# Producing output using learned w tilde\n",
    "y_cv1 = Predict(test_X_3, wtilde_cv1)\n",
    "\n",
    "# Accuracy for Iteration # 2 of cross validation\n",
    "eval_1 = Evaluate(y_cv1, test_labels_3)\n",
    "ls_errors.append(eval_1)\n",
    "print(\"Second cross validation iteration, prediction error = \", eval_1)"
   ]
  },
  {
   "cell_type": "markdown",
   "metadata": {},
   "source": [
    "##### Using folds 0,1,3,4 as training | fold 2 as test "
   ]
  },
  {
   "cell_type": "code",
   "execution_count": 5,
   "metadata": {},
   "outputs": [
    {
     "name": "stdout",
     "output_type": "stream",
     "text": [
      "Third cross validation iteration, prediction error =  [33.88597899]\n"
     ]
    }
   ],
   "source": [
    "train_X_0134 = np.c_[X_folds[0].T, X_folds[1].T, X_folds[3].T, X_folds[4].T].T\n",
    "train_labels_0134 = np.c_[labels_folds[0].T, labels_folds[1].T, labels_folds[3].T, labels_folds[4].T].T\n",
    "\n",
    "# Using fold 2 as test data, labels\n",
    "test_X_2 = X_folds[2]\n",
    "test_labels_2 = labels_folds[2]\n",
    "\n",
    "# Producing w tilde from training data, labels\n",
    "wtilde_cv2 = W_Tilde(train_X_0134, train_labels_0134)\n",
    "\n",
    "# Producing output using learned w tilde\n",
    "y_cv2 = Predict(test_X_2, wtilde_cv2)\n",
    "\n",
    "# Accuracy for Iteration # 3 of cross validation\n",
    "eval_2 = Evaluate(y_cv2, test_labels_2)\n",
    "ls_errors.append(eval_2)\n",
    "print(\"Third cross validation iteration, prediction error = \", eval_2)"
   ]
  },
  {
   "cell_type": "markdown",
   "metadata": {},
   "source": [
    "##### Using folds 0, 2, 3, 4 as training | fold 1 as test "
   ]
  },
  {
   "cell_type": "code",
   "execution_count": 6,
   "metadata": {},
   "outputs": [
    {
     "name": "stdout",
     "output_type": "stream",
     "text": [
      "Fourth cross validation iteration, prediction error =  [25.85742277]\n"
     ]
    }
   ],
   "source": [
    "train_X_0234 = np.c_[X_folds[0].T, X_folds[2].T, X_folds[3].T, X_folds[4].T].T\n",
    "train_labels_0234 = np.c_[labels_folds[0].T, labels_folds[2].T, labels_folds[3].T, labels_folds[4].T].T\n",
    "\n",
    "# Using fold 1 as test data, labels\n",
    "test_X_1 = X_folds[1]\n",
    "test_labels_1 = labels_folds[1]\n",
    "\n",
    "# Producing w tilde from training data, labels\n",
    "wtilde_cv3 = W_Tilde(train_X_0234, train_labels_0234)\n",
    "\n",
    "# Producing output using learned w tilde\n",
    "y_cv3 = Predict(test_X_1, wtilde_cv3)\n",
    "\n",
    "# Accuracy for Iteration # 4 of cross validation\n",
    "eval_3 = Evaluate(y_cv3, test_labels_1)\n",
    "ls_errors.append(eval_3)\n",
    "print(\"Fourth cross validation iteration, prediction error = \", eval_3)"
   ]
  },
  {
   "cell_type": "markdown",
   "metadata": {},
   "source": [
    "##### Using folds 1, 2, 3, 4 as training | fold 0 as test "
   ]
  },
  {
   "cell_type": "code",
   "execution_count": 7,
   "metadata": {},
   "outputs": [
    {
     "name": "stdout",
     "output_type": "stream",
     "text": [
      "Fifth cross validation iteration, prediction error =  [12.59521025]\n"
     ]
    }
   ],
   "source": [
    "train_X_1234 = np.c_[X_folds[1].T, X_folds[2].T, X_folds[3].T, X_folds[4].T].T\n",
    "train_labels_1234 = np.c_[labels_folds[1].T, labels_folds[2].T, labels_folds[3].T, labels_folds[4].T].T\n",
    "\n",
    "# Using fold 0 as test data, labels\n",
    "test_X_0 = X_folds[0]\n",
    "test_labels_0 = labels_folds[0]\n",
    "\n",
    "# Producing w tilde from training data, labels\n",
    "wtilde_cv4 = W_Tilde(train_X_1234, train_labels_1234)\n",
    "\n",
    "# Producing output using learned w tilde\n",
    "y_cv4 = Predict(test_X_0, wtilde_cv4)\n",
    "\n",
    "# Accuracy for Iteration # 5 of cross validation\n",
    "eval_4 = Evaluate(y_cv4, test_labels_0)\n",
    "ls_errors.append(eval_4)\n",
    "print(\"Fifth cross validation iteration, prediction error = \", eval_4)"
   ]
  },
  {
   "cell_type": "markdown",
   "metadata": {},
   "source": [
    "##### Average prediction error over k = 5 cross validation"
   ]
  },
  {
   "cell_type": "code",
   "execution_count": 8,
   "metadata": {},
   "outputs": [
    {
     "name": "stdout",
     "output_type": "stream",
     "text": [
      "Average prediction error =  37.125390481939526\n"
     ]
    }
   ],
   "source": [
    "avg = np.mean(ls_errors)\n",
    "print(\"Average prediction error = \", avg)"
   ]
  },
  {
   "cell_type": "markdown",
   "metadata": {},
   "source": [
    "##### Using Smallest Prediction Error Training and Test Folds: Plotting Measured versus Predicted"
   ]
  },
  {
   "cell_type": "code",
   "execution_count": 9,
   "metadata": {},
   "outputs": [
    {
     "data": {
      "text/plain": [
       "[<matplotlib.lines.Line2D at 0x7f3c03b76470>]"
      ]
     },
     "execution_count": 9,
     "metadata": {},
     "output_type": "execute_result"
    },
    {
     "data": {
      "image/png": "[encoded data removed]",
      "text/plain": [
       "<Figure size 432x288 with 1 Axes>"
      ]
     },
     "metadata": {},
     "output_type": "display_data"
    }
   ],
   "source": [
    "from matplotlib import pyplot as plt\n",
    "%matplotlib inline\n",
    "\n",
    "fig, ax = plt.subplots(1)\n",
    "\n",
    "measured = test_labels_0\n",
    "predicted = y_cv4\n",
    "measured = measured.ravel()\n",
    "predicted = predicted.ravel()\n",
    "\n",
    "plt.scatter(predicted, measured)\n",
    "plt.ylabel(\"Measured Prices: $Y_i$\")\n",
    "plt.xlabel(\"Predicted prices: $\\hat{Y}_i$\")\n",
    "plt.title(\"Measured Prices vs Predicted prices: $Y_i$ vs $\\hat{Y}_i$\")\n",
    "\n",
    "plt.plot(np.unique(predicted), np.poly1d(np.polyfit(predicted, measured, 1))(np.unique(predicted)))"
   ]
  },
  {
   "cell_type": "markdown",
   "metadata": {},
   "source": [
    "### Task 2: Ridge Regression"
   ]
  },
  {
   "cell_type": "code",
   "execution_count": 10,
   "metadata": {},
   "outputs": [],
   "source": [
    "# Discretizing lambda values from 0 to 12\n",
    "m_lambda = [1, 3, 6, 9, 12]\n",
    "m_lambda1 = []\n",
    "m_lambda3 = []\n",
    "m_lambda6 = []\n",
    "m_lambda9 = []\n",
    "m_lambda12 = []\n",
    "untouched_data = []\n",
    "untouched_labels = []\n",
    "\n",
    "# Ridge Regression Solution\n",
    "def Ridge_WTilde(X, Y, lambda_val):\n",
    "    test = np.identity(len(X_folds[0].T))\n",
    "    wtilde = LA.inv((X.T @ X) + (lambda_val * np.identity(len(X.T)))) @ (X.T @ Y)\n",
    "    return wtilde"
   ]
  },
  {
   "cell_type": "markdown",
   "metadata": {},
   "source": [
    "##### Finding Best $\\lambda$"
   ]
  },
  {
   "cell_type": "code",
   "execution_count": 11,
   "metadata": {},
   "outputs": [],
   "source": [
    "def FindLambdaError(in1, in2, in3, in_test, leave, lam_val):\n",
    "    # Train\n",
    "    train = np.c_[X_folds[in1 - 1].T, X_folds[in2 - 1].T, X_folds[in3 - 1].T].T\n",
    "    labels = np.c_[labels_folds[in1 - 1].T, labels_folds[in2 - 1].T, labels_folds[in3 - 1].T].T\n",
    "    \n",
    "    # Test\n",
    "    test = X_folds[in_test - 1]\n",
    "    test_labels = labels_folds[in_test - 1]\n",
    "    \n",
    "    # Untouched\n",
    "    untouched_dat =  X_folds[leave - 1]\n",
    "    untouched_data.append(untouched_dat)\n",
    "    untouched_lab = labels_folds[leave - 1]\n",
    "    untouched_labels.append(untouched_lab)\n",
    "    \n",
    "    # Produce w tilde\n",
    "    w = Ridge_WTilde(train, labels, lam_val)\n",
    "    # Predict\n",
    "    output = Predict(test, w)\n",
    "    # Error\n",
    "    err = Evaluate(output, test_labels)\n",
    "    \n",
    "    return err"
   ]
  },
  {
   "cell_type": "code",
   "execution_count": 12,
   "metadata": {},
   "outputs": [
    {
     "name": "stdout",
     "output_type": "stream",
     "text": [
      "Lambda = 1 : Average Prediction Error =  60.27964622920531\n"
     ]
    }
   ],
   "source": [
    "# Lambda = 1\n",
    "\n",
    "# Iteration 1: Train on folds 1, 2, and 3; validate (test) on fold 4; leave fold 5 untouched\n",
    "lam1_it1 = FindLambdaError(1,2,3,4,5,m_lambda[0])\n",
    "m_lambda1.append(lam1_it1)\n",
    "\n",
    "# Iteration 2: Train on folds 2, 3, and 4; validate (test) on fold 5; leave fold 1 untouched\n",
    "lam1_it2 = FindLambdaError(2,3,4,5,1,m_lambda[0])\n",
    "m_lambda1.append(lam1_it2)\n",
    "\n",
    "# Iteration 3: Train on folds 3, 4, and 5; validate (test) on fold 1; leave fold 2 untouched\n",
    "lam1_it3 = FindLambdaError(3,4,5,1,2,m_lambda[0])\n",
    "m_lambda1.append(lam1_it3)\n",
    "\n",
    "# Iteration 4: Train on folds 4, 5, and 1; validate (test) on fold 2; leave fold 3 untouched\n",
    "lam1_it4 = FindLambdaError(4,5,1,2,3,m_lambda[0])\n",
    "m_lambda1.append(lam1_it4)\n",
    "\n",
    "# Iteration 5: Train on folds 5, 1, and 2; validate (test) on fold 3; leave fold 4 untouched\n",
    "lam1_it5 = FindLambdaError(5,1,2,3,4,m_lambda[0])\n",
    "m_lambda1.append(lam1_it5)\n",
    "\n",
    "print(\"Lambda = 1 : Average Prediction Error = \", np.mean(m_lambda1))"
   ]
  },
  {
   "cell_type": "code",
   "execution_count": 13,
   "metadata": {},
   "outputs": [
    {
     "name": "stdout",
     "output_type": "stream",
     "text": [
      "Lambda = 3 : Average Prediction Error =  49.11504480990901\n"
     ]
    }
   ],
   "source": [
    "# Lambda = 3\n",
    "\n",
    "# Iteration 1: Train on folds 1, 2, and 3; validate (test) on fold 4; leave fold 5 untouched\n",
    "lam3_it1 = FindLambdaError(1,2,3,4,5,m_lambda[1])\n",
    "m_lambda3.append(lam3_it1)\n",
    "\n",
    "# Iteration 2: Train on folds 2, 3, and 4; validate (test) on fold 5; leave fold 1 untouched\n",
    "lam3_it2 = FindLambdaError(2,3,4,5,1,m_lambda[1])\n",
    "m_lambda3.append(lam3_it2)\n",
    "\n",
    "# Iteration 3: Train on folds 3, 4, and 5; validate (test) on fold 1; leave fold 2 untouched\n",
    "lam3_it3 = FindLambdaError(3,4,5,1,2,m_lambda[1])\n",
    "m_lambda3.append(lam3_it3)\n",
    "\n",
    "# Iteration 4: Train on folds 4, 5, and 1; validate (test) on fold 2; leave fold 3 untouched\n",
    "lam3_it4 = FindLambdaError(4,5,1,2,3,m_lambda[1])\n",
    "m_lambda3.append(lam3_it4)\n",
    "\n",
    "# Iteration 5: Train on folds 5, 1, and 2; validate (test) on fold 3; leave fold 4 untouched\n",
    "lam3_it5 = FindLambdaError(5,1,2,3,4,m_lambda[1])\n",
    "m_lambda3.append(lam3_it5)\n",
    "\n",
    "print(\"Lambda = 3 : Average Prediction Error = \", np.mean(m_lambda3))"
   ]
  },
  {
   "cell_type": "code",
   "execution_count": 14,
   "metadata": {},
   "outputs": [
    {
     "name": "stdout",
     "output_type": "stream",
     "text": [
      "Lambda = 6 : Average Prediction Error =  46.74134002722932\n"
     ]
    }
   ],
   "source": [
    "# Lambda = 6\n",
    "\n",
    "# Iteration 1: Train on folds 1, 2, and 3; validate (test) on fold 4; leave fold 5 untouched\n",
    "lam6_it1 = FindLambdaError(1,2,3,4,5,m_lambda[2])\n",
    "m_lambda6.append(lam6_it1)\n",
    "\n",
    "# Iteration 2: Train on folds 2, 3, and 4; validate (test) on fold 5; leave fold 1 untouched\n",
    "lam6_it2 = FindLambdaError(2,3,4,5,1,m_lambda[2])\n",
    "m_lambda6.append(lam6_it2)\n",
    "\n",
    "# Iteration 3: Train on folds 3, 4, and 5; validate (test) on fold 1; leave fold 2 untouched\n",
    "lam6_it3 = FindLambdaError(3,4,5,1,2,m_lambda[2])\n",
    "m_lambda6.append(lam6_it3)\n",
    "\n",
    "# Iteration 4: Train on folds 4, 5, and 1; validate (test) on fold 2; leave fold 3 untouched\n",
    "lam6_it4 = FindLambdaError(4,5,1,2,3,m_lambda[2])\n",
    "m_lambda6.append(lam6_it4)\n",
    "\n",
    "# Iteration 5: Train on folds 5, 1, and 2; validate (test) on fold 3; leave fold 4 untouched\n",
    "lam6_it5 = FindLambdaError(5,1,2,3,4,m_lambda[2])\n",
    "m_lambda6.append(lam6_it5)\n",
    "\n",
    "print(\"Lambda = 6 : Average Prediction Error = \", np.mean(m_lambda6))"
   ]
  },
  {
   "cell_type": "code",
   "execution_count": 15,
   "metadata": {},
   "outputs": [
    {
     "name": "stdout",
     "output_type": "stream",
     "text": [
      "Lambda = 9 : Average Prediction Error =  46.87458207561587\n"
     ]
    }
   ],
   "source": [
    "# Lambda = 9\n",
    "\n",
    "# Iteration 1: Train on folds 1, 2, and 3; validate (test) on fold 4; leave fold 5 untouched\n",
    "lam9_it1 = FindLambdaError(1,2,3,4,5,m_lambda[3])\n",
    "m_lambda9.append(lam9_it1)\n",
    "\n",
    "# Iteration 2: Train on folds 2, 3, and 4; validate (test) on fold 5; leave fold 1 untouched\n",
    "lam9_it2 = FindLambdaError(2,3,4,5,1,m_lambda[3])\n",
    "m_lambda9.append(lam9_it2)\n",
    "\n",
    "# Iteration 3: Train on folds 3, 4, and 5; validate (test) on fold 1; leave fold 2 untouched\n",
    "lam9_it3 = FindLambdaError(3,4,5,1,2,m_lambda[3])\n",
    "m_lambda9.append(lam9_it3)\n",
    "\n",
    "# Iteration 4: Train on folds 4, 5, and 1; validate (test) on fold 2; leave fold 3 untouched\n",
    "lam9_it4 = FindLambdaError(4,5,1,2,3,m_lambda[3])\n",
    "m_lambda9.append(lam9_it4)\n",
    "\n",
    "# Iteration 5: Train on folds 5, 1, and 2; validate (test) on fold 3; leave fold 4 untouched\n",
    "lam9_it5 = FindLambdaError(5,1,2,3,4,m_lambda[3])\n",
    "m_lambda9.append(lam9_it5)\n",
    "\n",
    "print(\"Lambda = 9 : Average Prediction Error = \", np.mean(m_lambda9))"
   ]
  },
  {
   "cell_type": "code",
   "execution_count": 16,
   "metadata": {},
   "outputs": [
    {
     "name": "stdout",
     "output_type": "stream",
     "text": [
      "Lambda = 12 : Average Prediction Error =  47.65323227281052\n"
     ]
    }
   ],
   "source": [
    "# Lambda = 12\n",
    "\n",
    "# Iteration 1: Train on folds 1, 2, and 3; validate (test) on fold 4; leave fold 5 untouched\n",
    "lam12_it1 = FindLambdaError(1,2,3,4,5,m_lambda[4])\n",
    "m_lambda12.append(lam12_it1)\n",
    "\n",
    "# Iteration 2: Train on folds 2, 3, and 4; validate (test) on fold 5; leave fold 1 untouched\n",
    "lam12_it2 = FindLambdaError(2,3,4,5,1,m_lambda[4])\n",
    "m_lambda12.append(lam12_it2)\n",
    "\n",
    "# Iteration 3: Train on folds 3, 4, and 5; validate (test) on fold 1; leave fold 2 untouched\n",
    "lam12_it3 = FindLambdaError(3,4,5,1,2,m_lambda[4])\n",
    "m_lambda12.append(lam12_it3)\n",
    "\n",
    "# Iteration 4: Train on folds 4, 5, and 1; validate (test) on fold 2; leave fold 3 untouched\n",
    "lam12_it4 = FindLambdaError(4,5,1,2,3,m_lambda[4])\n",
    "m_lambda12.append(lam12_it4)\n",
    "\n",
    "# Iteration 5: Train on folds 5, 1, and 2; validate (test) on fold 3; leave fold 4 untouched\n",
    "lam12_it5 = FindLambdaError(5,1,2,3,4,m_lambda[4])\n",
    "m_lambda12.append(lam12_it5)\n",
    "\n",
    "print(\"Lambda = 12 : Average Prediction Error = \", np.mean(m_lambda12))"
   ]
  },
  {
   "cell_type": "code",
   "execution_count": 18,
   "metadata": {},
   "outputs": [],
   "source": [
    "# Using best lambda\n",
    "def FindRR_Error(in1,in2,in3,in4,in_test, lam_val):\n",
    "    # Train\n",
    "    train = np.c_[X_folds[in1 - 1].T, X_folds[in2 - 1].T, X_folds[in3 - 1].T, X_folds[in4 - 1].T].T\n",
    "    labels = np.c_[labels_folds[in1 - 1].T, labels_folds[in2 - 1].T, labels_folds[in3 - 1].T, labels_folds[in4 - 1].T].T\n",
    "    \n",
    "    # Test\n",
    "    test = X_folds[in_test - 1]\n",
    "    test_labels = labels_folds[in_test - 1]\n",
    "    \n",
    "    # Produce w tilde\n",
    "    w = Ridge_WTilde(train, labels, lam_val)\n",
    "    # Predict\n",
    "    output = Predict(test, w)\n",
    "    # Error\n",
    "    err = Evaluate(output, test_labels)\n",
    "    return err"
   ]
  },
  {
   "cell_type": "markdown",
   "metadata": {},
   "source": [
    "##### Now using best $\\lambda$  = 6 "
   ]
  },
  {
   "cell_type": "code",
   "execution_count": 19,
   "metadata": {},
   "outputs": [
    {
     "name": "stdout",
     "output_type": "stream",
     "text": [
      "Final RR Average Prediction Error =  32.70430201424554\n"
     ]
    }
   ],
   "source": [
    "best_lambda = m_lambda[2]\n",
    "rr_errors = []\n",
    "\n",
    "# Iteration 1: Train on folds 1, 2, 3, and 4; test on fold 5\n",
    "it1_err = FindRR_Error(1,2,3,4,5,best_lambda)\n",
    "rr_errors.append(it1_err)\n",
    "\n",
    "# Iteration 2: Train on folds 2, 3, 4, and 5; test on fold 1\n",
    "it2_err = FindRR_Error(2,3,4,5,1,best_lambda)\n",
    "rr_errors.append(it2_err)\n",
    "\n",
    "# Iteration 3: Train on folds 3, 4, 5, and 1; test on fold 2\n",
    "it3_err = FindRR_Error(3,4,5,1,2,best_lambda)\n",
    "rr_errors.append(it3_err)\n",
    "\n",
    "# Iteration 4: Train on folds 4, 5, 1, and 2; test on fold 3\n",
    "it4_err = FindRR_Error(4,5,1,2,3,best_lambda)\n",
    "rr_errors.append(it4_err)\n",
    "\n",
    "# Iteration 5: Train on folds 5, 1, 2, and 3; test on fold 4\n",
    "it5_err = FindRR_Error(5,1,2,3,4,best_lambda)\n",
    "rr_errors.append(it5_err)\n",
    "\n",
    "print(\"Final RR Average Prediction Error = \", np.mean(rr_errors))"
   ]
  }
 ],
 "metadata": {
  "kernelspec": {
   "display_name": "Python 3",
   "language": "python",
   "name": "python3"
  },
  "language_info": {
   "codemirror_mode": {
    "name": "ipython",
    "version": 3
   },
   "file_extension": ".py",
   "mimetype": "text/x-python",
   "name": "python",
   "nbconvert_exporter": "python",
   "pygments_lexer": "ipython3",
   "version": "3.6.5"
  }
 },
 "nbformat": 4,
 "nbformat_minor": 2
}
