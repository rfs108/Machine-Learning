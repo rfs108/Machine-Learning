{
 "cells": [
  {
   "cell_type": "markdown",
   "metadata": {},
   "source": [
    "### Exercise 5 using UCI Wine Dataset"
   ]
  },
  {
   "cell_type": "code",
   "execution_count": 1,
   "metadata": {},
   "outputs": [],
   "source": [
    "from sklearn.datasets import load_wine\n",
    "samples, labels = load_wine(return_X_y = True)\n",
    "\n",
    "# Note: dim(samples) = 178 x 13"
   ]
  },
  {
   "cell_type": "markdown",
   "metadata": {},
   "source": [
    "#### Standardization of Data\n",
    "###### 1. Centering wine dataset so each attribute has zero mean"
   ]
  },
  {
   "cell_type": "code",
   "execution_count": 2,
   "metadata": {},
   "outputs": [],
   "source": [
    "import numpy as np\n",
    "\n",
    "# Arranging data so columns are samples, rows are attributes\n",
    "# dim(X) = 13 x 178\n",
    "X = samples.T\n",
    "\n",
    "# Mean vector of empirical data and tiled mean matrix\n",
    "mean_vec = X.mean(axis = 1)\n",
    "mean_mat = np.tile(mean_vec.reshape(X.shape[0],1),[1,X.shape[1]])\n",
    "\n",
    "# Centered data matrix\n",
    "X_centered = X - mean_mat"
   ]
  },
  {
   "cell_type": "markdown",
   "metadata": {},
   "source": [
    "###### 2. Computing two-dimensional PCA features of centered wine dataset"
   ]
  },
  {
   "cell_type": "code",
   "execution_count": 3,
   "metadata": {},
   "outputs": [],
   "source": [
    "from numpy import linalg as LA\n",
    "\n",
    "# SVD(X_centered)\n",
    "U, S, Vt = LA.svd(X_centered)\n",
    "\n",
    "# Top 2 principal components of centered data matrix\n",
    "U2 = U[:, 0:2]\n",
    "\n",
    "# Computing PCA based features of centered data matrix using top 2 principal components\n",
    "# dim(X_tilde) = 2 x 178\n",
    "X_tilde = U2.T.dot(X_centered)"
   ]
  },
  {
   "cell_type": "markdown",
   "metadata": {},
   "source": [
    "Scatter plot for labels '0' as red squares, '1' as green triangles, '2' as blue circles"
   ]
  },
  {
   "cell_type": "code",
   "execution_count": 29,
   "metadata": {},
   "outputs": [
    {
     "data": {
      "image/png": "[encoded data removed]",
      "text/plain": [
       "<Figure size 432x288 with 1 Axes>"
      ]
     },
     "metadata": {},
     "output_type": "display_data"
    }
   ],
   "source": [
    "from matplotlib import pyplot as plt\n",
    "\n",
    "plt.scatter(X_tilde.T[np.where(labels==0),0],X_tilde.T[np.where(labels==0),1],c='r',marker='s')\n",
    "plt.scatter(X_tilde.T[np.where(labels==1),0],X_tilde.T[np.where(labels==1),1],c='g',marker='^')\n",
    "plt.scatter(X_tilde.T[np.where(labels==2),0],X_tilde.T[np.where(labels==2),1],c='b',marker='o')\n",
    "plt.show()"
   ]
  },
  {
   "cell_type": "markdown",
   "metadata": {},
   "source": [
    "###### 3. Normalizing centered wine dataset so each attribute has unit empirical variance using:    $X_{Standardized} = \\frac{X - \\mu}{\\sigma} = \\frac{X_{centered}}{\\sigma} $"
   ]
  },
  {
   "cell_type": "code",
   "execution_count": 5,
   "metadata": {},
   "outputs": [
    {
     "data": {
      "text/plain": [
       "array([1., 1., 1., 1., 1., 1., 1., 1., 1., 1., 1., 1., 1.])"
      ]
     },
     "metadata": {},
     "output_type": "display_data"
    }
   ],
   "source": [
    "from numpy import *\n",
    "\n",
    "# Just for initialization purposes***\n",
    "X_standard = X_centered\n",
    "\n",
    "# Normalizing each row attribute from X_centered, storing in X_standard\n",
    "for row in range(0, 13):\n",
    "    attribute = X_centered[row, :]\n",
    "    std_attribute = attribute / std(attribute)\n",
    "    X_standard[row, :] = std_attribute\n",
    "    \n",
    "# Variance of each row attribute is now unity\n",
    "variances = var(X_standard, axis = 1)\n",
    "display(variances)"
   ]
  },
  {
   "cell_type": "markdown",
   "metadata": {},
   "source": [
    "###### 4. Computing two-dimensional PCA features of standardized wine dataset"
   ]
  },
  {
   "cell_type": "code",
   "execution_count": 6,
   "metadata": {},
   "outputs": [],
   "source": [
    "# SVD(X_standard)\n",
    "U_stand, S_stand, Vt_stand = LA.svd(X_standard)\n",
    "\n",
    "# Top 2 principal components of standardized data matrix\n",
    "U2_stand = U_stand[:, 0:2]\n",
    "\n",
    "# Computing PCA based features of standardized data matrix using top 2 principal components\n",
    "# dim(X_tilde_stand) = 2 x 178\n",
    "X_tilde_stand = U2_stand.T.dot(X_standard)"
   ]
  },
  {
   "cell_type": "markdown",
   "metadata": {},
   "source": [
    "Scatter plot for labels '0' as red squares, '1' as green triangles, '2' as blue circles"
   ]
  },
  {
   "cell_type": "code",
   "execution_count": 7,
   "metadata": {},
   "outputs": [
    {
     "data": {
      "image/png": "[encoded data removed]",
      "text/plain": [
       "<Figure size 432x288 with 1 Axes>"
      ]
     },
     "metadata": {},
     "output_type": "display_data"
    }
   ],
   "source": [
    "plt.scatter(X_tilde_stand.T[np.where(labels==0),0],X_tilde_stand.T[np.where(labels==0),1],c='r',marker='s')\n",
    "plt.scatter(X_tilde_stand.T[np.where(labels==1),0],X_tilde_stand.T[np.where(labels==1),1],c='g',marker='^')\n",
    "plt.scatter(X_tilde_stand.T[np.where(labels==2),0],X_tilde_stand.T[np.where(labels==2),1],c='b',marker='o')\n",
    "plt.show()"
   ]
  },
  {
   "cell_type": "markdown",
   "metadata": {},
   "source": [
    "###### 5. Discussing PCA features from standardized versus centered data"
   ]
  },
  {
   "cell_type": "markdown",
   "metadata": {},
   "source": [
    "From the two plots above, standardizing data would lead to better classification performance. From a visual point of view, we can clearly see the seperation is larger between classes decreasing the likelihood for misclassification. Standardizing features to be centered around 0 and having a variation (or standard deviation) of 1 is important especially when comparing measurements with different features. Since PCA essentially analyzes variances of the different features, standardization can be considered a crucial requirement. The main effect standardizing has on PCA comes from the scaling of covariance between pairs of variables by the product of the standard deviations of each pair of variables."
   ]
  },
  {
   "cell_type": "markdown",
   "metadata": {},
   "source": [
    "#### Naive Bayes Classification\n",
    "###### 1. Building naive Bayes classifier"
   ]
  },
  {
   "cell_type": "code",
   "execution_count": 8,
   "metadata": {},
   "outputs": [],
   "source": [
    "import math\n",
    "\n",
    "# Find both attribute means for particular class instances\n",
    "# Find both attribute variances for particular class instances\n",
    "# Inputs: Dataset with concatenated labels, class label\n",
    "def AttributeMeansVars(dataset, class_label):\n",
    "    feature1_values = []\n",
    "    feature2_values = []\n",
    "    # Loop through each column checking for label\n",
    "    for i in range(0,len(dataset[0])):\n",
    "        label = dataset[len(dataset) - 1, i]\n",
    "        if(label == class_label):\n",
    "            feature1_values.append(dataset[0,i])\n",
    "            feature2_values.append(dataset[1,i])\n",
    "    # Compute attribute means\n",
    "    feature1_mean = mean(feature1_values)\n",
    "    feature2_mean = mean(feature2_values)\n",
    "    # Compute attribute variances\n",
    "    feature1_var = var(feature1_values)\n",
    "    feature2_var = var(feature2_values)\n",
    "    # Return means, variances for both attributes\n",
    "    return feature1_mean, feature1_var, feature2_mean, feature2_var \n",
    "\n",
    "\n",
    "# Gaussian PDF - used for posterior probability in Gaussian Naive Bayes Classifier below\n",
    "def GaussianPDF(x, mean, variance):\n",
    "    denominator = (2 * math.pi * variance)**.5\n",
    "    numerator = math.exp((-(float(x)-float(mean))**2)/(2*variance))\n",
    "    return numerator/denominator\n",
    "\n",
    "\n",
    "# Gaussian Naive Bayes Classifier Model\n",
    "def GaussNaiveBayesModel(dataset):\n",
    "    # Return summaries as list for each class\n",
    "    model = []\n",
    "    \n",
    "    # Class 0: finding feature means, variances for this class\n",
    "    # 2 features so we will have 2 means and 2 variances for this class\n",
    "    class0_mean1, class0_var1, class0_mean2, class0_var2 = AttributeMeansVars(dataset, 0)\n",
    "    model.append(class0_mean1)\n",
    "    model.append(class0_var1)\n",
    "    model.append(class0_mean2)\n",
    "    model.append(class0_var2)\n",
    "    \n",
    "    # Class 1: finding feature means, variances for this class\n",
    "    # 2 features so we will have 2 means and 2 variances for this class\n",
    "    class1_mean1, class1_var1, class1_mean2, class1_var2 = AttributeMeansVars(dataset, 1)\n",
    "    model.append(class1_mean1)\n",
    "    model.append(class1_var1)\n",
    "    model.append(class1_mean2)\n",
    "    model.append(class1_var2)\n",
    "    \n",
    "    # Class 1: finding feature means, variances for this class\n",
    "    # 2 features so we will have 2 means and 2 variances for this class\n",
    "    class2_mean1, class2_var1, class2_mean2, class2_var2 = AttributeMeansVars(dataset, 2) \n",
    "    model.append(class2_mean1)\n",
    "    model.append(class2_var1)\n",
    "    model.append(class2_mean2)\n",
    "    model.append(class2_var2)\n",
    "    \n",
    "    return model\n",
    "\n",
    "\n",
    "def PosteriorProbabilities(model, x1, x2):\n",
    "    # X1, X2 posterior using model: Class 2\n",
    "    pdf_feature1_class0 = GaussianPDF(x1, model[0], model[1])\n",
    "    pdf_feature2_class0 = GaussianPDF(x2, model[2], model[3])\n",
    "    # Posterior Class 0\n",
    "    post_class0 = pdf_feature1_class0 * pdf_feature2_class0\n",
    "    \n",
    "    # X1, X2 posterior using model: Class 1\n",
    "    pdf_feature1_class1 = GaussianPDF(x1, model[4], model[5])\n",
    "    pdf_feature2_class1 = GaussianPDF(x2, model[6], model[7])\n",
    "    # Posterior Class 1\n",
    "    post_class1 = pdf_feature1_class1 * pdf_feature2_class1\n",
    "    \n",
    "    # X1, X2 posterior using model: Class 2\n",
    "    pdf_feature1_class2 = GaussianPDF(x1, model[8], model[9])\n",
    "    pdf_feature2_class2 = GaussianPDF(x2, model[10], model[11])\n",
    "    # Posterior Class 2\n",
    "    post_class2 = pdf_feature1_class2 * pdf_feature2_class2\n",
    "    \n",
    "    return post_class0, post_class1, post_class2\n",
    "    \n",
    "    \n",
    "# Choose max posterior of the three classes\n",
    "def Predict(prob_class0, prob_class1, prob_class2):\n",
    "    # Choose max posterior of the three classes\n",
    "    if(prob_class0 > prob_class1 and prob_class0 > prob_class2):\n",
    "        return 0\n",
    "    if(prob_class1 > prob_class0 and prob_class1 > prob_class2):\n",
    "        return 1\n",
    "    if(prob_class2 > prob_class0 and prob_class2 > prob_class1):\n",
    "        return 2\n",
    "    \n",
    "    \n",
    "# Gaussian Naive Bayes Classifier\n",
    "# Inputs: model summary, test data\n",
    "def GaussNaiveBayesClassify(model, test):\n",
    "    # Return each test sample prediction in a list\n",
    "    predictions = []\n",
    "    # Number of test samples\n",
    "    num_test_samples = len(test[0])\n",
    "    \n",
    "    for i in range(0, num_test_samples):\n",
    "        x1 = test[0, i]\n",
    "        x2 = test[1, i]\n",
    "        # Compute the posterior probabilities using model and new inputs\n",
    "        prob_class0, prob_class1, prob_class2 = PosteriorProbabilities(model, x1, x2)\n",
    "        prediction = Predict(prob_class0, prob_class1, prob_class2)\n",
    "        actual_label = test[2, i]\n",
    "        predictions.append([prediction,actual_label])\n",
    "    return predictions\n",
    "\n",
    "\n",
    "# Calculate classifier accuracy, each list element is a tuple with prediction, label\n",
    "def GetAccuracy(predictions):\n",
    "    correct_count = 0;\n",
    "    num_predictions = len(predictions)\n",
    "    for i in range(0, num_predictions):\n",
    "        list_tuple = predictions[i]\n",
    "        prediction = list_tuple[0]\n",
    "        label = list_tuple[1]\n",
    "        if(prediction == label):\n",
    "            correct_count += 1\n",
    "    return correct_count / num_predictions"
   ]
  },
  {
   "cell_type": "markdown",
   "metadata": {},
   "source": [
    "###### 2. Gaussian Naive Bayes classifier with K-fold cross validation: K = 5"
   ]
  },
  {
   "cell_type": "code",
   "execution_count": 9,
   "metadata": {},
   "outputs": [],
   "source": [
    "# Method to fold evenly/unevenly, returns list of numpy arrays\n",
    "def KFolds(dataset, k):\n",
    "    # Return this list of numpyarrays\n",
    "    folds = []\n",
    "    \n",
    "    # Number of samples to divide\n",
    "    num_samples = len(dataset[0])\n",
    "    \n",
    "    # Each fold sample size\n",
    "    fold_size = math.floor(num_samples / k)\n",
    "    \n",
    "    # Remaining samples for uneven folds\n",
    "    remainder_size = num_samples % k\n",
    "    \n",
    "    # Even fold case\n",
    "    if(remainder_size == 0):\n",
    "        samples_left = num_samples\n",
    "        i = 0;\n",
    "        while(samples_left != 0):\n",
    "            start_index = int(i * fold_size)\n",
    "            end_index = int((i + 1) * fold_size)\n",
    "            folds.append(dataset[:, start_index:end_index])\n",
    "            samples_left -= fold_size\n",
    "            i += 1\n",
    "            \n",
    "    # Uneven fold case\n",
    "    # Do the same thing then distribute remaining columns among folds\n",
    "    if(remainder_size != 0):\n",
    "        samples_left = k * fold_size\n",
    "        i = 0;\n",
    "        while(samples_left != 0):\n",
    "            start_index = int(i * fold_size)\n",
    "            end_index = int((i + 1) * fold_size)\n",
    "            folds.append(dataset[:, start_index:end_index])\n",
    "            samples_left -= fold_size\n",
    "            i += 1\n",
    "        for j in range(0, remainder_size):\n",
    "            arr = folds[len(folds) - (j + 1)]\n",
    "            column = dataset[:, num_samples - (j + 1)]\n",
    "            folds[len(folds) - (j + 1)] = np.c_[arr, column]           \n",
    "            \n",
    "    return folds"
   ]
  },
  {
   "cell_type": "markdown",
   "metadata": {},
   "source": [
    "###### Case I: Using two dimensional PCA features of centered data for classification"
   ]
  },
  {
   "cell_type": "code",
   "execution_count": 10,
   "metadata": {},
   "outputs": [],
   "source": [
    "# Concatenating labels as last row to two dimensional PCA features of centered data\n",
    "data_case1 = np.c_[X_tilde.T, labels].T\n",
    "\n",
    "# Randomly shuffle dataset by columns before K-folding\n",
    "np.random.shuffle(data_case1.T)\n",
    "\n",
    "# Partition into K = 5 folds\n",
    "folds_case1 = KFolds(data_case1, 5)\n",
    "\n",
    "# Case 1 accuracies for all K folds\n",
    "case1_accuracies = []"
   ]
  },
  {
   "cell_type": "markdown",
   "metadata": {},
   "source": [
    "###### First Iteration:  Test Data using Fold 5 & Training Data using Folds 1 - 4"
   ]
  },
  {
   "cell_type": "code",
   "execution_count": 11,
   "metadata": {},
   "outputs": [
    {
     "data": {
      "text/plain": [
       "'Accuracy: '"
      ]
     },
     "metadata": {},
     "output_type": "display_data"
    },
    {
     "data": {
      "text/plain": [
       "0.6944444444444444"
      ]
     },
     "metadata": {},
     "output_type": "display_data"
    }
   ],
   "source": [
    "# Seperate folds into train data and test data\n",
    "first_train_case1 = np.c_[folds_case1[0], folds_case1[1], folds_case1[2], folds_case1[3]]\n",
    "first_test_case1 = folds_case1[4]\n",
    "\n",
    "# Train Gaussian Naive Bayes Model using Folds 1 - 4\n",
    "first_train_case1_model = GaussNaiveBayesModel(first_train_case1)\n",
    "\n",
    "# Test Fold 5\n",
    "first_predictions_case1 = GaussNaiveBayesClassify(first_train_case1_model, first_test_case1)\n",
    "\n",
    "# Computing accuracy\n",
    "case1_fifth_fold_accuracy = GetAccuracy(first_predictions_case1)\n",
    "display(\"Accuracy: \", case1_fifth_fold_accuracy)\n",
    "\n",
    "# Append accuracy to list of Case 1 accuracies\n",
    "case1_accuracies.append(case1_fifth_fold_accuracy)"
   ]
  },
  {
   "cell_type": "markdown",
   "metadata": {},
   "source": [
    "###### Second Iteration:  Test Data using Fold 4 & Training Data using Folds 1 - 3, 5"
   ]
  },
  {
   "cell_type": "code",
   "execution_count": 12,
   "metadata": {},
   "outputs": [
    {
     "data": {
      "text/plain": [
       "'Accuracy: '"
      ]
     },
     "metadata": {},
     "output_type": "display_data"
    },
    {
     "data": {
      "text/plain": [
       "0.8333333333333334"
      ]
     },
     "metadata": {},
     "output_type": "display_data"
    }
   ],
   "source": [
    "# Seperate folds into train data and test data\n",
    "second_train_case1 = np.c_[folds_case1[0], folds_case1[1], folds_case1[2], folds_case1[4]]\n",
    "second_test_case1 = folds_case1[3]\n",
    "\n",
    "# Train Gaussian Naive Bayes Model using Folds 1 - 3, 5\n",
    "second_train_case1_model = GaussNaiveBayesModel(second_train_case1)\n",
    "\n",
    "# Test Fold 4\n",
    "second_predictions_case1 = GaussNaiveBayesClassify(second_train_case1_model, second_test_case1)\n",
    "\n",
    "# Computing accuracy\n",
    "case1_fourth_fold_accuracy = GetAccuracy(second_predictions_case1)\n",
    "display(\"Accuracy: \", case1_fourth_fold_accuracy)\n",
    "\n",
    "# Append accuracy to list of Case 1 accuracies\n",
    "case1_accuracies.append(case1_fourth_fold_accuracy)"
   ]
  },
  {
   "cell_type": "markdown",
   "metadata": {},
   "source": [
    "###### Third Iteration:  Test Data using Fold 3 & Training Data using Folds 1 - 2, 4 - 5"
   ]
  },
  {
   "cell_type": "code",
   "execution_count": 13,
   "metadata": {},
   "outputs": [
    {
     "data": {
      "text/plain": [
       "'Accuracy: '"
      ]
     },
     "metadata": {},
     "output_type": "display_data"
    },
    {
     "data": {
      "text/plain": [
       "0.8055555555555556"
      ]
     },
     "metadata": {},
     "output_type": "display_data"
    }
   ],
   "source": [
    "# Seperate folds into train data and test data\n",
    "third_train_case1 = np.c_[folds_case1[0], folds_case1[1], folds_case1[3], folds_case1[4]]\n",
    "third_test_case1 = folds_case1[2]\n",
    "\n",
    "# Train Gaussian Naive Bayes Model using Folds 1 - 2, 4 - 5\n",
    "third_train_case1_model = GaussNaiveBayesModel(third_train_case1)\n",
    "\n",
    "# Test Fold 3\n",
    "third_predictions_case1 = GaussNaiveBayesClassify(third_train_case1_model, third_test_case1)\n",
    "\n",
    "# Computing accuracy\n",
    "case1_third_fold_accuracy = GetAccuracy(third_predictions_case1)\n",
    "display(\"Accuracy: \", case1_third_fold_accuracy)\n",
    "\n",
    "# Append accuracy to list of Case 1 accuracies\n",
    "case1_accuracies.append(case1_third_fold_accuracy)"
   ]
  },
  {
   "cell_type": "markdown",
   "metadata": {},
   "source": [
    "###### Fourth Iteration:  Test Data using Fold 2 & Training Data using Folds 1, 3 - 5"
   ]
  },
  {
   "cell_type": "code",
   "execution_count": 14,
   "metadata": {},
   "outputs": [
    {
     "data": {
      "text/plain": [
       "'Accuracy: '"
      ]
     },
     "metadata": {},
     "output_type": "display_data"
    },
    {
     "data": {
      "text/plain": [
       "0.8285714285714286"
      ]
     },
     "metadata": {},
     "output_type": "display_data"
    }
   ],
   "source": [
    "# Seperate folds into train data and test data\n",
    "fourth_train_case1 = np.c_[folds_case1[0], folds_case1[2], folds_case1[3], folds_case1[4]]\n",
    "fourth_test_case1 = folds_case1[1]\n",
    "\n",
    "# Train Gaussian Naive Bayes Model using Folds 1, 3 - 5\n",
    "fourth_train_case1_model = GaussNaiveBayesModel(fourth_train_case1)\n",
    "\n",
    "# Test Fold 2\n",
    "second_predictions_case1 = GaussNaiveBayesClassify(fourth_train_case1_model, fourth_test_case1)\n",
    "\n",
    "# Computing accuracy\n",
    "case1_second_fold_accuracy = GetAccuracy(second_predictions_case1)\n",
    "display(\"Accuracy: \", case1_second_fold_accuracy)\n",
    "\n",
    "# Append accuracy to list of Case 1 accuracies\n",
    "case1_accuracies.append(case1_second_fold_accuracy)"
   ]
  },
  {
   "cell_type": "markdown",
   "metadata": {},
   "source": [
    "###### Fifth Iteration:  Test Data using Fold 1 & Training Data using Folds 2 - 5"
   ]
  },
  {
   "cell_type": "code",
   "execution_count": 15,
   "metadata": {},
   "outputs": [
    {
     "data": {
      "text/plain": [
       "'Accuracy: '"
      ]
     },
     "metadata": {},
     "output_type": "display_data"
    },
    {
     "data": {
      "text/plain": [
       "0.6571428571428571"
      ]
     },
     "metadata": {},
     "output_type": "display_data"
    }
   ],
   "source": [
    "# Seperate folds into train data and test data\n",
    "fifth_train_case1 = np.c_[folds_case1[1], folds_case1[2], folds_case1[3], folds_case1[4]]\n",
    "fifth_test_case1 = folds_case1[0]\n",
    "\n",
    "# Train Gaussian Naive Bayes Model using Folds 1, 3 - 5\n",
    "fifth_train_case1_model = GaussNaiveBayesModel(fifth_train_case1)\n",
    "\n",
    "# Test Fold 1\n",
    "first_predictions_case1 = GaussNaiveBayesClassify(fifth_train_case1_model, fifth_test_case1)\n",
    "\n",
    "# Computing accuracy\n",
    "case1_first_fold_accuracy = GetAccuracy(first_predictions_case1)\n",
    "display(\"Accuracy: \", case1_first_fold_accuracy)\n",
    "\n",
    "# Append accuracy to list of Case 1 accuracies\n",
    "case1_accuracies.append(case1_first_fold_accuracy)"
   ]
  },
  {
   "cell_type": "markdown",
   "metadata": {},
   "source": [
    "###### Case II: Using two dimensional PCA features of standardized data for classification"
   ]
  },
  {
   "cell_type": "code",
   "execution_count": 16,
   "metadata": {},
   "outputs": [],
   "source": [
    "# Concatenating labels as last row to two dimensional PCA features of standardized data\n",
    "data_case2 = np.c_[X_tilde_stand.T, labels].T\n",
    "\n",
    "# Randomly shuffle dataset by columns before K-folding\n",
    "np.random.shuffle(data_case2.T)\n",
    "\n",
    "# Partition into K = 5 folds\n",
    "folds_case2 = KFolds(data_case2, 5)\n",
    "\n",
    "# Case 2 accuracies for all K folds\n",
    "case2_accuracies = []"
   ]
  },
  {
   "cell_type": "markdown",
   "metadata": {},
   "source": [
    "###### First Iteration:  Test Data using Fold 5 & Training Data using Folds 1 - 4"
   ]
  },
  {
   "cell_type": "code",
   "execution_count": 17,
   "metadata": {},
   "outputs": [
    {
     "data": {
      "text/plain": [
       "'Accuracy: '"
      ]
     },
     "metadata": {},
     "output_type": "display_data"
    },
    {
     "data": {
      "text/plain": [
       "1.0"
      ]
     },
     "metadata": {},
     "output_type": "display_data"
    }
   ],
   "source": [
    "# Seperate folds into train data and test data\n",
    "first_train_case2 = np.c_[folds_case2[0], folds_case2[1], folds_case2[2], folds_case2[3]]\n",
    "first_test_case2 = folds_case2[4]\n",
    "\n",
    "# Train Gaussian Naive Bayes Model using Folds 1 - 4\n",
    "first_train_case2_model = GaussNaiveBayesModel(first_train_case2)\n",
    "\n",
    "# Test Fold 5\n",
    "first_predictions_case2 = GaussNaiveBayesClassify(first_train_case2_model, first_test_case2)\n",
    "\n",
    "# Computing accuracy\n",
    "case2_fifth_fold_accuracy = GetAccuracy(first_predictions_case2)\n",
    "display(\"Accuracy: \", case2_fifth_fold_accuracy)\n",
    "\n",
    "# Append accuracy to list of Case 2 accuracies\n",
    "case2_accuracies.append(case2_fifth_fold_accuracy)"
   ]
  },
  {
   "cell_type": "markdown",
   "metadata": {},
   "source": [
    "###### Second Iteration:  Test Data using Fold 4 & Training Data using Folds 1 - 3, 5"
   ]
  },
  {
   "cell_type": "code",
   "execution_count": 18,
   "metadata": {},
   "outputs": [
    {
     "data": {
      "text/plain": [
       "'Accuracy: '"
      ]
     },
     "metadata": {},
     "output_type": "display_data"
    },
    {
     "data": {
      "text/plain": [
       "0.9444444444444444"
      ]
     },
     "metadata": {},
     "output_type": "display_data"
    }
   ],
   "source": [
    "# Seperate folds into train data and test data\n",
    "second_train_case2 = np.c_[folds_case2[0], folds_case2[1], folds_case2[2], folds_case2[4]]\n",
    "second_test_case2 = folds_case2[3]\n",
    "\n",
    "# Train Gaussian Naive Bayes Model using Folds 1 - 3, 5\n",
    "second_train_case2_model = GaussNaiveBayesModel(second_train_case2)\n",
    "\n",
    "# Test Fold 4\n",
    "second_predictions_case2 = GaussNaiveBayesClassify(second_train_case2_model, second_test_case2)\n",
    "\n",
    "# Computing accuracy\n",
    "case2_fourth_fold_accuracy = GetAccuracy(second_predictions_case2)\n",
    "display(\"Accuracy: \", case2_fourth_fold_accuracy)\n",
    "\n",
    "# Append accuracy to list of Case 2 accuracies\n",
    "case2_accuracies.append(case2_fourth_fold_accuracy)"
   ]
  },
  {
   "cell_type": "markdown",
   "metadata": {},
   "source": [
    "###### Third Iteration:  Test Data using Fold 3 & Training Data using Folds 1 - 2, 4 - 5"
   ]
  },
  {
   "cell_type": "code",
   "execution_count": 19,
   "metadata": {},
   "outputs": [
    {
     "data": {
      "text/plain": [
       "'Accuracy: '"
      ]
     },
     "metadata": {},
     "output_type": "display_data"
    },
    {
     "data": {
      "text/plain": [
       "0.9722222222222222"
      ]
     },
     "metadata": {},
     "output_type": "display_data"
    }
   ],
   "source": [
    "# Seperate folds into train data and test data\n",
    "third_train_case2 = np.c_[folds_case2[0], folds_case2[1], folds_case2[3], folds_case2[4]]\n",
    "third_test_case2 = folds_case2[2]\n",
    "\n",
    "# Train Gaussian Naive Bayes Model using Folds 1 - 2, 4 - 5\n",
    "third_train_case2_model = GaussNaiveBayesModel(third_train_case2)\n",
    "\n",
    "# Test Fold 3\n",
    "third_predictions_case2 = GaussNaiveBayesClassify(third_train_case2_model, third_test_case2)\n",
    "\n",
    "# Computing accuracy\n",
    "case2_third_fold_accuracy = GetAccuracy(third_predictions_case2)\n",
    "display(\"Accuracy: \", case2_third_fold_accuracy)\n",
    "\n",
    "# Append accuracy to list of Case 2 accuracies\n",
    "case2_accuracies.append(case2_third_fold_accuracy)"
   ]
  },
  {
   "cell_type": "markdown",
   "metadata": {},
   "source": [
    "###### Fourth Iteration:  Test Data using Fold 2 & Training Data using Folds 1, 3 - 5"
   ]
  },
  {
   "cell_type": "code",
   "execution_count": 20,
   "metadata": {},
   "outputs": [
    {
     "data": {
      "text/plain": [
       "'Accuracy: '"
      ]
     },
     "metadata": {},
     "output_type": "display_data"
    },
    {
     "data": {
      "text/plain": [
       "0.9428571428571428"
      ]
     },
     "metadata": {},
     "output_type": "display_data"
    }
   ],
   "source": [
    "# Seperate folds into train data and test data\n",
    "fourth_train_case2 = np.c_[folds_case2[0], folds_case2[2], folds_case2[3], folds_case2[4]]\n",
    "fourth_test_case2 = folds_case2[1]\n",
    "\n",
    "# Train Gaussian Naive Bayes Model using Folds 1, 3 - 5\n",
    "fourth_train_case2_model = GaussNaiveBayesModel(fourth_train_case2)\n",
    "\n",
    "# Test Fold 2\n",
    "second_predictions_case2 = GaussNaiveBayesClassify(fourth_train_case2_model, fourth_test_case2)\n",
    "\n",
    "# Computing accuracy\n",
    "case2_second_fold_accuracy = GetAccuracy(second_predictions_case2)\n",
    "display(\"Accuracy: \", case2_second_fold_accuracy)\n",
    "\n",
    "# Append accuracy to list of Case 2 accuracies\n",
    "case2_accuracies.append(case2_second_fold_accuracy)"
   ]
  },
  {
   "cell_type": "markdown",
   "metadata": {},
   "source": [
    "###### Fifth Iteration:  Test Data using Fold 1 & Training Data using Folds 2 - 5"
   ]
  },
  {
   "cell_type": "code",
   "execution_count": 21,
   "metadata": {},
   "outputs": [
    {
     "data": {
      "text/plain": [
       "'Accuracy: '"
      ]
     },
     "metadata": {},
     "output_type": "display_data"
    },
    {
     "data": {
      "text/plain": [
       "0.9714285714285714"
      ]
     },
     "metadata": {},
     "output_type": "display_data"
    }
   ],
   "source": [
    "# Seperate folds into train data and test data\n",
    "fifth_train_case2 = np.c_[folds_case2[1], folds_case2[2], folds_case2[3], folds_case2[4]]\n",
    "fifth_test_case2 = folds_case2[0]\n",
    "\n",
    "# Train Gaussian Naive Bayes Model using Folds 1, 3 - 5\n",
    "fifth_train_case2_model = GaussNaiveBayesModel(fifth_train_case2)\n",
    "\n",
    "# Test Fold 1\n",
    "first_predictions_case2 = GaussNaiveBayesClassify(fifth_train_case2_model, fifth_test_case2)\n",
    "\n",
    "# Computing accuracy\n",
    "case2_first_fold_accuracy = GetAccuracy(first_predictions_case2)\n",
    "display(\"Accuracy: \", case2_first_fold_accuracy)\n",
    "\n",
    "# Append accuracy to list of Case 2 accuracies\n",
    "case2_accuracies.append(case2_first_fold_accuracy)"
   ]
  },
  {
   "cell_type": "markdown",
   "metadata": {},
   "source": [
    "###### Case III: Using two dimensional PCA features of standardized data for classification with sklearn"
   ]
  },
  {
   "cell_type": "code",
   "execution_count": 22,
   "metadata": {},
   "outputs": [],
   "source": [
    "from sklearn.naive_bayes import GaussianNB\n",
    "\n",
    "# Two dimensional PCA features of standardized data, with labels as last row\n",
    "data_case3 = np.c_[X_tilde_stand.T, labels].T\n",
    "\n",
    "# Randomly shuffle dataset by columns before K-folding\n",
    "np.random.shuffle(data_case3.T)\n",
    "\n",
    "# Partition into K = 5 folds\n",
    "folds_case3 = KFolds(data_case3, 5)\n",
    "\n",
    "# Case 3 accuracies for all K folds\n",
    "case3_accuracies = []"
   ]
  },
  {
   "cell_type": "markdown",
   "metadata": {},
   "source": [
    "###### First Iteration:  Test Data using Fold 5 & Training Data using Folds 1 - 4"
   ]
  },
  {
   "cell_type": "code",
   "execution_count": 23,
   "metadata": {},
   "outputs": [
    {
     "data": {
      "text/plain": [
       "'Accuracy: '"
      ]
     },
     "metadata": {},
     "output_type": "display_data"
    },
    {
     "data": {
      "text/plain": [
       "0.9722222222222222"
      ]
     },
     "metadata": {},
     "output_type": "display_data"
    }
   ],
   "source": [
    "# Seperate folds into train data and seperate labels\n",
    "first_train_case3 = np.c_[folds_case3[0], folds_case3[1], folds_case3[2], folds_case3[3]]\n",
    "first_train_case3_data = first_train_case3[0:2, :].T\n",
    "first_train_case3_labels = first_train_case3[2,:]\n",
    "\n",
    "# Seperate test data\n",
    "first_test_case3 = folds_case3[4]\n",
    "first_test_case3_data = first_test_case3[0:2, :].T\n",
    "first_test_case3_labels = first_test_case3[2,:]\n",
    "\n",
    "# Train using sklearn Gaussian NB\n",
    "classifier = GaussianNB()\n",
    "classifier.fit(first_train_case3_data, first_train_case3_labels)\n",
    "\n",
    "# Predict Test Fold 5\n",
    "first_predictions_case3 = classifier.predict(first_test_case3_data)\n",
    "\n",
    "# Computing accuracy\n",
    "case3_fifth_fold_accuracy = classifier.score(first_test_case3_data, first_test_case3_labels)\n",
    "display(\"Accuracy: \", case3_fifth_fold_accuracy)\n",
    "\n",
    "# Append accuracy to list of Case 3 accuracies\n",
    "case3_accuracies.append(case3_fifth_fold_accuracy)"
   ]
  },
  {
   "cell_type": "markdown",
   "metadata": {},
   "source": [
    "###### Second Iteration:  Test Data using Fold 4 & Training Data using Folds 1 - 3, 5"
   ]
  },
  {
   "cell_type": "code",
   "execution_count": 24,
   "metadata": {},
   "outputs": [
    {
     "data": {
      "text/plain": [
       "'Accuracy: '"
      ]
     },
     "metadata": {},
     "output_type": "display_data"
    },
    {
     "data": {
      "text/plain": [
       "0.9722222222222222"
      ]
     },
     "metadata": {},
     "output_type": "display_data"
    }
   ],
   "source": [
    "# Seperate folds into train data and seperate labels\n",
    "second_train_case3 = np.c_[folds_case3[0], folds_case3[1], folds_case3[2], folds_case3[4]]\n",
    "second_train_case3_data = second_train_case3[0:2, :].T\n",
    "second_train_case3_labels = first_train_case3[2,:]\n",
    "\n",
    "# Seperate test data\n",
    "second_test_case3 = folds_case3[3]\n",
    "second_test_case3_data = second_test_case3[0:2, :].T\n",
    "second_test_case3_labels = second_test_case3[2,:]\n",
    "\n",
    "# Train using sklearn Gaussian NB\n",
    "classifier = GaussianNB()\n",
    "classifier.fit(second_train_case3_data, second_train_case3_labels)\n",
    "\n",
    "# Predict Test Fold 4\n",
    "second_predictions_case3 = classifier.predict(second_test_case3_data)\n",
    "\n",
    "# Computing accuracy\n",
    "case3_fourth_fold_accuracy = classifier.score(second_test_case3_data, second_test_case3_labels)\n",
    "display(\"Accuracy: \", case3_fourth_fold_accuracy)\n",
    "\n",
    "# Append accuracy to list of Case 3 accuracies\n",
    "case3_accuracies.append(case3_fourth_fold_accuracy)"
   ]
  },
  {
   "cell_type": "markdown",
   "metadata": {},
   "source": [
    "###### Third Iteration:  Test Data using Fold 3 & Training Data using Folds 1 - 2, 4 - 5"
   ]
  },
  {
   "cell_type": "code",
   "execution_count": 25,
   "metadata": {},
   "outputs": [
    {
     "data": {
      "text/plain": [
       "'Accuracy: '"
      ]
     },
     "metadata": {},
     "output_type": "display_data"
    },
    {
     "data": {
      "text/plain": [
       "0.9444444444444444"
      ]
     },
     "metadata": {},
     "output_type": "display_data"
    }
   ],
   "source": [
    "# Seperate folds into train data and seperate labels\n",
    "third_train_case3 = np.c_[folds_case3[0], folds_case3[1], folds_case3[3], folds_case3[4]]\n",
    "third_train_case3_data = third_train_case3[0:2, :].T\n",
    "third_train_case3_labels = third_train_case3[2,:]\n",
    "\n",
    "# Seperate test data\n",
    "third_test_case3 = folds_case3[2]\n",
    "third_test_case3_data = third_test_case3[0:2, :].T\n",
    "third_test_case3_labels = third_test_case3[2,:]\n",
    "\n",
    "# Train using sklearn Gaussian NB\n",
    "classifier = GaussianNB()\n",
    "classifier.fit(third_train_case3_data, third_train_case3_labels)\n",
    "\n",
    "# Predict Test Fold 3\n",
    "third_predictions_case3 = classifier.predict(third_test_case3_data)\n",
    "\n",
    "# Computing accuracy\n",
    "case3_third_fold_accuracy = classifier.score(third_test_case3_data, third_test_case3_labels)\n",
    "display(\"Accuracy: \", case3_third_fold_accuracy)\n",
    "\n",
    "# Append accuracy to list of Case 3 accuracies\n",
    "case3_accuracies.append(case3_third_fold_accuracy)"
   ]
  },
  {
   "cell_type": "markdown",
   "metadata": {},
   "source": [
    "###### Fourth Iteration:  Test Data using Fold 2 & Training Data using Folds 1, 3 - 5"
   ]
  },
  {
   "cell_type": "code",
   "execution_count": 26,
   "metadata": {},
   "outputs": [
    {
     "data": {
      "text/plain": [
       "'Accuracy: '"
      ]
     },
     "metadata": {},
     "output_type": "display_data"
    },
    {
     "data": {
      "text/plain": [
       "1.0"
      ]
     },
     "metadata": {},
     "output_type": "display_data"
    }
   ],
   "source": [
    "# Seperate folds into train data and seperate labels\n",
    "fourth_train_case3 = np.c_[folds_case3[0], folds_case3[2], folds_case3[3], folds_case3[4]]\n",
    "fourth_train_case3_data = fourth_train_case3[0:2, :].T\n",
    "fourth_train_case3_labels = fourth_train_case3[2,:]\n",
    "\n",
    "# Seperate test data\n",
    "fourth_test_case3 = folds_case3[1]\n",
    "fourth_test_case3_data = fourth_test_case3[0:2, :].T\n",
    "fourth_test_case3_labels = fourth_test_case3[2,:]\n",
    "\n",
    "# Train using sklearn Gaussian NB\n",
    "classifier = GaussianNB()\n",
    "classifier.fit(fourth_train_case3_data, fourth_train_case3_labels)\n",
    "\n",
    "# Predict Test Fold 2\n",
    "fourth_predictions_case3 = classifier.predict(fourth_test_case3_data)\n",
    "\n",
    "# Computing accuracy\n",
    "case3_second_fold_accuracy = classifier.score(fourth_test_case3_data, fourth_test_case3_labels)\n",
    "display(\"Accuracy: \", case3_second_fold_accuracy)\n",
    "\n",
    "# Append accuracy to list of Case 3 accuracies\n",
    "case3_accuracies.append(case3_second_fold_accuracy)"
   ]
  },
  {
   "cell_type": "markdown",
   "metadata": {},
   "source": [
    "###### Fifth Iteration:  Test Data using Fold 1 & Training Data using Folds 2 - 5"
   ]
  },
  {
   "cell_type": "code",
   "execution_count": 27,
   "metadata": {},
   "outputs": [
    {
     "data": {
      "text/plain": [
       "'Accuracy: '"
      ]
     },
     "metadata": {},
     "output_type": "display_data"
    },
    {
     "data": {
      "text/plain": [
       "0.9142857142857143"
      ]
     },
     "metadata": {},
     "output_type": "display_data"
    }
   ],
   "source": [
    "# Seperate folds into train data and seperate labels\n",
    "fifth_train_case3 = np.c_[folds_case3[1], folds_case3[2], folds_case3[3], folds_case3[4]]\n",
    "fifth_train_case3_data = fifth_train_case3[0:2, :].T\n",
    "fifth_train_case3_labels = fifth_train_case3[2,:]\n",
    "\n",
    "# Seperate test data\n",
    "fifth_test_case3 = folds_case3[0]\n",
    "fifth_test_case3_data = fifth_test_case3[0:2, :].T\n",
    "fifth_test_case3_labels = fifth_test_case3[2,:]\n",
    "\n",
    "# Train using sklearn Gaussian NB\n",
    "classifier = GaussianNB()\n",
    "classifier.fit(fifth_train_case3_data, fifth_train_case3_labels)\n",
    "\n",
    "# Predict Test Fold 1\n",
    "fifth_predictions_case3 = classifier.predict(fifth_test_case3_data)\n",
    "\n",
    "# Computing accuracy\n",
    "case3_first_fold_accuracy = classifier.score(fifth_test_case3_data, fifth_test_case3_labels)\n",
    "display(\"Accuracy: \", case3_first_fold_accuracy)\n",
    "\n",
    "# Append accuracy to list of Case 3 accuracies\n",
    "case3_accuracies.append(case3_first_fold_accuracy)"
   ]
  },
  {
   "cell_type": "markdown",
   "metadata": {},
   "source": [
    "###### 3. Mean and variance of accuracies for Cases I, II, III"
   ]
  },
  {
   "cell_type": "code",
   "execution_count": 28,
   "metadata": {},
   "outputs": [
    {
     "data": {
      "text/plain": [
       "'Case I Mean, Variance: '"
      ]
     },
     "metadata": {},
     "output_type": "display_data"
    },
    {
     "data": {
      "text/plain": [
       "0.7638095238095237"
      ]
     },
     "metadata": {},
     "output_type": "display_data"
    },
    {
     "data": {
      "text/plain": [
       "0.0053919375157470435"
      ]
     },
     "metadata": {},
     "output_type": "display_data"
    },
    {
     "data": {
      "text/plain": [
       "'Case II Mean, Variance: '"
      ]
     },
     "metadata": {},
     "output_type": "display_data"
    },
    {
     "data": {
      "text/plain": [
       "0.9661904761904762"
      ]
     },
     "metadata": {},
     "output_type": "display_data"
    },
    {
     "data": {
      "text/plain": [
       "0.00044484756865709283"
      ]
     },
     "metadata": {},
     "output_type": "display_data"
    },
    {
     "data": {
      "text/plain": [
       "'Case III Mean, Variance: '"
      ]
     },
     "metadata": {},
     "output_type": "display_data"
    },
    {
     "data": {
      "text/plain": [
       "0.9606349206349206"
      ]
     },
     "metadata": {},
     "output_type": "display_data"
    },
    {
     "data": {
      "text/plain": [
       "0.0008457042076089702"
      ]
     },
     "metadata": {},
     "output_type": "display_data"
    }
   ],
   "source": [
    "# Case I accuracy mean, variance\n",
    "case1_mean = mean(case1_accuracies)\n",
    "case1_var = var(case1_accuracies)\n",
    "display(\"Case I Mean, Variance: \", case1_mean, case1_var)\n",
    "\n",
    "# Case II accuracy mean, variance\n",
    "case2_mean = mean(case2_accuracies)\n",
    "case2_var = var(case2_accuracies)\n",
    "display(\"Case II Mean, Variance: \", case2_mean, case2_var)\n",
    "\n",
    "# Case I III accuracy mean, variance\n",
    "case3_mean = mean(case3_accuracies)\n",
    "case3_var = var(case3_accuracies)\n",
    "display(\"Case III Mean, Variance: \", case3_mean, case3_var)"
   ]
  },
  {
   "cell_type": "markdown",
   "metadata": {},
   "source": [
    "First, from the results for mean and variance of accuracies above, it is clear that standardized data is preferred. Second, the variance of accuracies using the sklearn Gaussian Naive Bayes Classifier yields a smaller variance. Yet, the mean of accuracies is close to equal using my implemented classifier and sklearn's Gaussian NB. Please note that my classifier assumed equal probability for each class (prior probability) and did not account for normalization with probability of evidence. This could affect the value seen above however the accuracy is more than sufficient to correctly classify given input data among the three classes."
   ]
  }
 ],
 "metadata": {
  "kernelspec": {
   "display_name": "Python 3",
   "language": "python",
   "name": "python3"
  },
  "language_info": {
   "codemirror_mode": {
    "name": "ipython",
    "version": 3
   },
   "file_extension": ".py",
   "mimetype": "text/x-python",
   "name": "python",
   "nbconvert_exporter": "python",
   "pygments_lexer": "ipython3",
   "version": "3.6.5"
  }
 },
 "nbformat": 4,
 "nbformat_minor": 2
}
